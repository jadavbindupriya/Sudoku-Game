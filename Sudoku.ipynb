{
  "nbformat": 4,
  "nbformat_minor": 0,
  "metadata": {
    "colab": {
      "provenance": [],
      "authorship_tag": "ABX9TyP+NEw4olxqUjqhCsDcu6k7",
      "include_colab_link": true
    },
    "kernelspec": {
      "name": "python3",
      "display_name": "Python 3"
    },
    "language_info": {
      "name": "python"
    },
    "widgets": {
      "application/vnd.jupyter.widget-state+json": {
        "459e39fc97aa4452ab32554e5850683c": {
          "model_module": "@jupyter-widgets/controls",
          "model_name": "DropdownModel",
          "model_module_version": "1.5.0",
          "state": {
            "_dom_classes": [],
            "_model_module": "@jupyter-widgets/controls",
            "_model_module_version": "1.5.0",
            "_model_name": "DropdownModel",
            "_options_labels": [
              "Easy",
              "Medium",
              "Hard"
            ],
            "_view_count": null,
            "_view_module": "@jupyter-widgets/controls",
            "_view_module_version": "1.5.0",
            "_view_name": "DropdownView",
            "description": "Difficulty:",
            "description_tooltip": null,
            "disabled": false,
            "index": 0,
            "layout": "IPY_MODEL_cdf9f8f43bd54fd68a940761ccdc566f",
            "style": "IPY_MODEL_18a19fff95064b42a1916b00aa19a1f4"
          }
        },
        "cdf9f8f43bd54fd68a940761ccdc566f": {
          "model_module": "@jupyter-widgets/base",
          "model_name": "LayoutModel",
          "model_module_version": "1.2.0",
          "state": {
            "_model_module": "@jupyter-widgets/base",
            "_model_module_version": "1.2.0",
            "_model_name": "LayoutModel",
            "_view_count": null,
            "_view_module": "@jupyter-widgets/base",
            "_view_module_version": "1.2.0",
            "_view_name": "LayoutView",
            "align_content": null,
            "align_items": null,
            "align_self": null,
            "border": null,
            "bottom": null,
            "display": null,
            "flex": null,
            "flex_flow": null,
            "grid_area": null,
            "grid_auto_columns": null,
            "grid_auto_flow": null,
            "grid_auto_rows": null,
            "grid_column": null,
            "grid_gap": null,
            "grid_row": null,
            "grid_template_areas": null,
            "grid_template_columns": null,
            "grid_template_rows": null,
            "height": null,
            "justify_content": null,
            "justify_items": null,
            "left": null,
            "margin": null,
            "max_height": null,
            "max_width": null,
            "min_height": null,
            "min_width": null,
            "object_fit": null,
            "object_position": null,
            "order": null,
            "overflow": null,
            "overflow_x": null,
            "overflow_y": null,
            "padding": null,
            "right": null,
            "top": null,
            "visibility": null,
            "width": null
          }
        },
        "18a19fff95064b42a1916b00aa19a1f4": {
          "model_module": "@jupyter-widgets/controls",
          "model_name": "DescriptionStyleModel",
          "model_module_version": "1.5.0",
          "state": {
            "_model_module": "@jupyter-widgets/controls",
            "_model_module_version": "1.5.0",
            "_model_name": "DescriptionStyleModel",
            "_view_count": null,
            "_view_module": "@jupyter-widgets/base",
            "_view_module_version": "1.2.0",
            "_view_name": "StyleView",
            "description_width": ""
          }
        },
        "0e54645fff21468bae6aa9a9b89d9bf3": {
          "model_module": "@jupyter-widgets/controls",
          "model_name": "TextModel",
          "model_module_version": "1.5.0",
          "state": {
            "_dom_classes": [],
            "_model_module": "@jupyter-widgets/controls",
            "_model_module_version": "1.5.0",
            "_model_name": "TextModel",
            "_view_count": null,
            "_view_module": "@jupyter-widgets/controls",
            "_view_module_version": "1.5.0",
            "_view_name": "TextView",
            "continuous_update": true,
            "description": "Cell:",
            "description_tooltip": null,
            "disabled": false,
            "layout": "IPY_MODEL_b0f6ab33fbbf4ffdb13a303023c55dae",
            "placeholder": "Enter row,col (e.g., 3,4)",
            "style": "IPY_MODEL_253a5ad8ce7b4164b4b9b4b21b6c0a3c",
            "value": ""
          }
        },
        "b0f6ab33fbbf4ffdb13a303023c55dae": {
          "model_module": "@jupyter-widgets/base",
          "model_name": "LayoutModel",
          "model_module_version": "1.2.0",
          "state": {
            "_model_module": "@jupyter-widgets/base",
            "_model_module_version": "1.2.0",
            "_model_name": "LayoutModel",
            "_view_count": null,
            "_view_module": "@jupyter-widgets/base",
            "_view_module_version": "1.2.0",
            "_view_name": "LayoutView",
            "align_content": null,
            "align_items": null,
            "align_self": null,
            "border": null,
            "bottom": null,
            "display": null,
            "flex": null,
            "flex_flow": null,
            "grid_area": null,
            "grid_auto_columns": null,
            "grid_auto_flow": null,
            "grid_auto_rows": null,
            "grid_column": null,
            "grid_gap": null,
            "grid_row": null,
            "grid_template_areas": null,
            "grid_template_columns": null,
            "grid_template_rows": null,
            "height": null,
            "justify_content": null,
            "justify_items": null,
            "left": null,
            "margin": null,
            "max_height": null,
            "max_width": null,
            "min_height": null,
            "min_width": null,
            "object_fit": null,
            "object_position": null,
            "order": null,
            "overflow": null,
            "overflow_x": null,
            "overflow_y": null,
            "padding": null,
            "right": null,
            "top": null,
            "visibility": null,
            "width": null
          }
        },
        "253a5ad8ce7b4164b4b9b4b21b6c0a3c": {
          "model_module": "@jupyter-widgets/controls",
          "model_name": "DescriptionStyleModel",
          "model_module_version": "1.5.0",
          "state": {
            "_model_module": "@jupyter-widgets/controls",
            "_model_module_version": "1.5.0",
            "_model_name": "DescriptionStyleModel",
            "_view_count": null,
            "_view_module": "@jupyter-widgets/base",
            "_view_module_version": "1.2.0",
            "_view_name": "StyleView",
            "description_width": ""
          }
        },
        "655cb584feb34dba9b2f3784adefc80a": {
          "model_module": "@jupyter-widgets/controls",
          "model_name": "ButtonModel",
          "model_module_version": "1.5.0",
          "state": {
            "_dom_classes": [],
            "_model_module": "@jupyter-widgets/controls",
            "_model_module_version": "1.5.0",
            "_model_name": "ButtonModel",
            "_view_count": null,
            "_view_module": "@jupyter-widgets/controls",
            "_view_module_version": "1.5.0",
            "_view_name": "ButtonView",
            "button_style": "",
            "description": "Select Cell",
            "disabled": false,
            "icon": "",
            "layout": "IPY_MODEL_c5a0babec17a40cdaead26fc2aa1e322",
            "style": "IPY_MODEL_48c5f4e7379f424786a0d5343383dad2",
            "tooltip": ""
          }
        },
        "c5a0babec17a40cdaead26fc2aa1e322": {
          "model_module": "@jupyter-widgets/base",
          "model_name": "LayoutModel",
          "model_module_version": "1.2.0",
          "state": {
            "_model_module": "@jupyter-widgets/base",
            "_model_module_version": "1.2.0",
            "_model_name": "LayoutModel",
            "_view_count": null,
            "_view_module": "@jupyter-widgets/base",
            "_view_module_version": "1.2.0",
            "_view_name": "LayoutView",
            "align_content": null,
            "align_items": null,
            "align_self": null,
            "border": null,
            "bottom": null,
            "display": null,
            "flex": null,
            "flex_flow": null,
            "grid_area": null,
            "grid_auto_columns": null,
            "grid_auto_flow": null,
            "grid_auto_rows": null,
            "grid_column": null,
            "grid_gap": null,
            "grid_row": null,
            "grid_template_areas": null,
            "grid_template_columns": null,
            "grid_template_rows": null,
            "height": null,
            "justify_content": null,
            "justify_items": null,
            "left": null,
            "margin": null,
            "max_height": null,
            "max_width": null,
            "min_height": null,
            "min_width": null,
            "object_fit": null,
            "object_position": null,
            "order": null,
            "overflow": null,
            "overflow_x": null,
            "overflow_y": null,
            "padding": null,
            "right": null,
            "top": null,
            "visibility": null,
            "width": null
          }
        },
        "48c5f4e7379f424786a0d5343383dad2": {
          "model_module": "@jupyter-widgets/controls",
          "model_name": "ButtonStyleModel",
          "model_module_version": "1.5.0",
          "state": {
            "_model_module": "@jupyter-widgets/controls",
            "_model_module_version": "1.5.0",
            "_model_name": "ButtonStyleModel",
            "_view_count": null,
            "_view_module": "@jupyter-widgets/base",
            "_view_module_version": "1.2.0",
            "_view_name": "StyleView",
            "button_color": null,
            "font_weight": ""
          }
        },
        "2a7d6a167bc4413d937e25d813e3c7e9": {
          "model_module": "@jupyter-widgets/controls",
          "model_name": "DropdownModel",
          "model_module_version": "1.5.0",
          "state": {
            "_dom_classes": [],
            "_model_module": "@jupyter-widgets/controls",
            "_model_module_version": "1.5.0",
            "_model_name": "DropdownModel",
            "_options_labels": [
              "1",
              "2",
              "3",
              "4",
              "5",
              "6",
              "7",
              "8",
              "9"
            ],
            "_view_count": null,
            "_view_module": "@jupyter-widgets/controls",
            "_view_module_version": "1.5.0",
            "_view_name": "DropdownView",
            "description": "Number:",
            "description_tooltip": null,
            "disabled": false,
            "index": 0,
            "layout": "IPY_MODEL_d610129f327e4ad19df6f9364dfd6a7d",
            "style": "IPY_MODEL_a02a97d281de4093ac0f3ea3ad0791a0"
          }
        },
        "d610129f327e4ad19df6f9364dfd6a7d": {
          "model_module": "@jupyter-widgets/base",
          "model_name": "LayoutModel",
          "model_module_version": "1.2.0",
          "state": {
            "_model_module": "@jupyter-widgets/base",
            "_model_module_version": "1.2.0",
            "_model_name": "LayoutModel",
            "_view_count": null,
            "_view_module": "@jupyter-widgets/base",
            "_view_module_version": "1.2.0",
            "_view_name": "LayoutView",
            "align_content": null,
            "align_items": null,
            "align_self": null,
            "border": null,
            "bottom": null,
            "display": null,
            "flex": null,
            "flex_flow": null,
            "grid_area": null,
            "grid_auto_columns": null,
            "grid_auto_flow": null,
            "grid_auto_rows": null,
            "grid_column": null,
            "grid_gap": null,
            "grid_row": null,
            "grid_template_areas": null,
            "grid_template_columns": null,
            "grid_template_rows": null,
            "height": null,
            "justify_content": null,
            "justify_items": null,
            "left": null,
            "margin": null,
            "max_height": null,
            "max_width": null,
            "min_height": null,
            "min_width": null,
            "object_fit": null,
            "object_position": null,
            "order": null,
            "overflow": null,
            "overflow_x": null,
            "overflow_y": null,
            "padding": null,
            "right": null,
            "top": null,
            "visibility": null,
            "width": null
          }
        },
        "a02a97d281de4093ac0f3ea3ad0791a0": {
          "model_module": "@jupyter-widgets/controls",
          "model_name": "DescriptionStyleModel",
          "model_module_version": "1.5.0",
          "state": {
            "_model_module": "@jupyter-widgets/controls",
            "_model_module_version": "1.5.0",
            "_model_name": "DescriptionStyleModel",
            "_view_count": null,
            "_view_module": "@jupyter-widgets/base",
            "_view_module_version": "1.2.0",
            "_view_name": "StyleView",
            "description_width": ""
          }
        },
        "c0afa827e1224083b98c1d60e37e991b": {
          "model_module": "@jupyter-widgets/controls",
          "model_name": "ButtonModel",
          "model_module_version": "1.5.0",
          "state": {
            "_dom_classes": [],
            "_model_module": "@jupyter-widgets/controls",
            "_model_module_version": "1.5.0",
            "_model_name": "ButtonModel",
            "_view_count": null,
            "_view_module": "@jupyter-widgets/controls",
            "_view_module_version": "1.5.0",
            "_view_name": "ButtonView",
            "button_style": "",
            "description": "Submit",
            "disabled": false,
            "icon": "",
            "layout": "IPY_MODEL_e2166f8a19d94ee29dc51b1d859907f6",
            "style": "IPY_MODEL_3cc07dd1c2cb440bb6859d7ef6ad9607",
            "tooltip": ""
          }
        },
        "e2166f8a19d94ee29dc51b1d859907f6": {
          "model_module": "@jupyter-widgets/base",
          "model_name": "LayoutModel",
          "model_module_version": "1.2.0",
          "state": {
            "_model_module": "@jupyter-widgets/base",
            "_model_module_version": "1.2.0",
            "_model_name": "LayoutModel",
            "_view_count": null,
            "_view_module": "@jupyter-widgets/base",
            "_view_module_version": "1.2.0",
            "_view_name": "LayoutView",
            "align_content": null,
            "align_items": null,
            "align_self": null,
            "border": null,
            "bottom": null,
            "display": null,
            "flex": null,
            "flex_flow": null,
            "grid_area": null,
            "grid_auto_columns": null,
            "grid_auto_flow": null,
            "grid_auto_rows": null,
            "grid_column": null,
            "grid_gap": null,
            "grid_row": null,
            "grid_template_areas": null,
            "grid_template_columns": null,
            "grid_template_rows": null,
            "height": null,
            "justify_content": null,
            "justify_items": null,
            "left": null,
            "margin": null,
            "max_height": null,
            "max_width": null,
            "min_height": null,
            "min_width": null,
            "object_fit": null,
            "object_position": null,
            "order": null,
            "overflow": null,
            "overflow_x": null,
            "overflow_y": null,
            "padding": null,
            "right": null,
            "top": null,
            "visibility": null,
            "width": null
          }
        },
        "3cc07dd1c2cb440bb6859d7ef6ad9607": {
          "model_module": "@jupyter-widgets/controls",
          "model_name": "ButtonStyleModel",
          "model_module_version": "1.5.0",
          "state": {
            "_model_module": "@jupyter-widgets/controls",
            "_model_module_version": "1.5.0",
            "_model_name": "ButtonStyleModel",
            "_view_count": null,
            "_view_module": "@jupyter-widgets/base",
            "_view_module_version": "1.2.0",
            "_view_name": "StyleView",
            "button_color": null,
            "font_weight": ""
          }
        },
        "b460cebb7af3421982231651eb19b810": {
          "model_module": "@jupyter-widgets/controls",
          "model_name": "ButtonModel",
          "model_module_version": "1.5.0",
          "state": {
            "_dom_classes": [],
            "_model_module": "@jupyter-widgets/controls",
            "_model_module_version": "1.5.0",
            "_model_name": "ButtonModel",
            "_view_count": null,
            "_view_module": "@jupyter-widgets/controls",
            "_view_module_version": "1.5.0",
            "_view_name": "ButtonView",
            "button_style": "",
            "description": "Hint",
            "disabled": false,
            "icon": "",
            "layout": "IPY_MODEL_1e3dc0780d264b7490f9e3f895e7e44f",
            "style": "IPY_MODEL_5accb200e3244b0c900fe744a1af9ba0",
            "tooltip": ""
          }
        },
        "1e3dc0780d264b7490f9e3f895e7e44f": {
          "model_module": "@jupyter-widgets/base",
          "model_name": "LayoutModel",
          "model_module_version": "1.2.0",
          "state": {
            "_model_module": "@jupyter-widgets/base",
            "_model_module_version": "1.2.0",
            "_model_name": "LayoutModel",
            "_view_count": null,
            "_view_module": "@jupyter-widgets/base",
            "_view_module_version": "1.2.0",
            "_view_name": "LayoutView",
            "align_content": null,
            "align_items": null,
            "align_self": null,
            "border": null,
            "bottom": null,
            "display": null,
            "flex": null,
            "flex_flow": null,
            "grid_area": null,
            "grid_auto_columns": null,
            "grid_auto_flow": null,
            "grid_auto_rows": null,
            "grid_column": null,
            "grid_gap": null,
            "grid_row": null,
            "grid_template_areas": null,
            "grid_template_columns": null,
            "grid_template_rows": null,
            "height": null,
            "justify_content": null,
            "justify_items": null,
            "left": null,
            "margin": null,
            "max_height": null,
            "max_width": null,
            "min_height": null,
            "min_width": null,
            "object_fit": null,
            "object_position": null,
            "order": null,
            "overflow": null,
            "overflow_x": null,
            "overflow_y": null,
            "padding": null,
            "right": null,
            "top": null,
            "visibility": null,
            "width": null
          }
        },
        "5accb200e3244b0c900fe744a1af9ba0": {
          "model_module": "@jupyter-widgets/controls",
          "model_name": "ButtonStyleModel",
          "model_module_version": "1.5.0",
          "state": {
            "_model_module": "@jupyter-widgets/controls",
            "_model_module_version": "1.5.0",
            "_model_name": "ButtonStyleModel",
            "_view_count": null,
            "_view_module": "@jupyter-widgets/base",
            "_view_module_version": "1.2.0",
            "_view_name": "StyleView",
            "button_color": null,
            "font_weight": ""
          }
        },
        "ca80ba6cc98a4cbb80377e133aa6dd69": {
          "model_module": "@jupyter-widgets/controls",
          "model_name": "ButtonModel",
          "model_module_version": "1.5.0",
          "state": {
            "_dom_classes": [],
            "_model_module": "@jupyter-widgets/controls",
            "_model_module_version": "1.5.0",
            "_model_name": "ButtonModel",
            "_view_count": null,
            "_view_module": "@jupyter-widgets/controls",
            "_view_module_version": "1.5.0",
            "_view_name": "ButtonView",
            "button_style": "",
            "description": "Restart",
            "disabled": false,
            "icon": "",
            "layout": "IPY_MODEL_3b7339eda573488faf187dc0b8205eb7",
            "style": "IPY_MODEL_dad893ce1d7d47439b067c9de7642232",
            "tooltip": ""
          }
        },
        "3b7339eda573488faf187dc0b8205eb7": {
          "model_module": "@jupyter-widgets/base",
          "model_name": "LayoutModel",
          "model_module_version": "1.2.0",
          "state": {
            "_model_module": "@jupyter-widgets/base",
            "_model_module_version": "1.2.0",
            "_model_name": "LayoutModel",
            "_view_count": null,
            "_view_module": "@jupyter-widgets/base",
            "_view_module_version": "1.2.0",
            "_view_name": "LayoutView",
            "align_content": null,
            "align_items": null,
            "align_self": null,
            "border": null,
            "bottom": null,
            "display": null,
            "flex": null,
            "flex_flow": null,
            "grid_area": null,
            "grid_auto_columns": null,
            "grid_auto_flow": null,
            "grid_auto_rows": null,
            "grid_column": null,
            "grid_gap": null,
            "grid_row": null,
            "grid_template_areas": null,
            "grid_template_columns": null,
            "grid_template_rows": null,
            "height": null,
            "justify_content": null,
            "justify_items": null,
            "left": null,
            "margin": null,
            "max_height": null,
            "max_width": null,
            "min_height": null,
            "min_width": null,
            "object_fit": null,
            "object_position": null,
            "order": null,
            "overflow": null,
            "overflow_x": null,
            "overflow_y": null,
            "padding": null,
            "right": null,
            "top": null,
            "visibility": null,
            "width": null
          }
        },
        "dad893ce1d7d47439b067c9de7642232": {
          "model_module": "@jupyter-widgets/controls",
          "model_name": "ButtonStyleModel",
          "model_module_version": "1.5.0",
          "state": {
            "_model_module": "@jupyter-widgets/controls",
            "_model_module_version": "1.5.0",
            "_model_name": "ButtonStyleModel",
            "_view_count": null,
            "_view_module": "@jupyter-widgets/base",
            "_view_module_version": "1.2.0",
            "_view_name": "StyleView",
            "button_color": null,
            "font_weight": ""
          }
        },
        "e734d51a90774c7a9ca7e1b422d461f4": {
          "model_module": "@jupyter-widgets/output",
          "model_name": "OutputModel",
          "model_module_version": "1.0.0",
          "state": {
            "_dom_classes": [],
            "_model_module": "@jupyter-widgets/output",
            "_model_module_version": "1.0.0",
            "_model_name": "OutputModel",
            "_view_count": null,
            "_view_module": "@jupyter-widgets/output",
            "_view_module_version": "1.0.0",
            "_view_name": "OutputView",
            "layout": "IPY_MODEL_985d4930dba84c728678627bf4ab2c30",
            "msg_id": "",
            "outputs": [
              {
                "output_type": "display_data",
                "data": {
                  "text/plain": "<Figure size 600x600 with 1 Axes>",
                  "image/png": "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\n"
                },
                "metadata": {}
              },
              {
                "output_type": "stream",
                "name": "stdout",
                "text": [
                  "Time elapsed: 191.4 seconds\n",
                  "Hints remaining: 3\n"
                ]
              }
            ]
          }
        },
        "985d4930dba84c728678627bf4ab2c30": {
          "model_module": "@jupyter-widgets/base",
          "model_name": "LayoutModel",
          "model_module_version": "1.2.0",
          "state": {
            "_model_module": "@jupyter-widgets/base",
            "_model_module_version": "1.2.0",
            "_model_name": "LayoutModel",
            "_view_count": null,
            "_view_module": "@jupyter-widgets/base",
            "_view_module_version": "1.2.0",
            "_view_name": "LayoutView",
            "align_content": null,
            "align_items": null,
            "align_self": null,
            "border": null,
            "bottom": null,
            "display": null,
            "flex": null,
            "flex_flow": null,
            "grid_area": null,
            "grid_auto_columns": null,
            "grid_auto_flow": null,
            "grid_auto_rows": null,
            "grid_column": null,
            "grid_gap": null,
            "grid_row": null,
            "grid_template_areas": null,
            "grid_template_columns": null,
            "grid_template_rows": null,
            "height": null,
            "justify_content": null,
            "justify_items": null,
            "left": null,
            "margin": null,
            "max_height": null,
            "max_width": null,
            "min_height": null,
            "min_width": null,
            "object_fit": null,
            "object_position": null,
            "order": null,
            "overflow": null,
            "overflow_x": null,
            "overflow_y": null,
            "padding": null,
            "right": null,
            "top": null,
            "visibility": null,
            "width": null
          }
        }
      }
    }
  },
  "cells": [
    {
      "cell_type": "markdown",
      "metadata": {
        "id": "view-in-github",
        "colab_type": "text"
      },
      "source": [
        "<a href=\"https://colab.research.google.com/github/jadavbindupriya/Sudoku-Game/blob/main/Sudoku.ipynb\" target=\"_parent\"><img src=\"https://colab.research.google.com/assets/colab-badge.svg\" alt=\"Open In Colab\"/></a>"
      ]
    },
    {
      "cell_type": "code",
      "source": [
        "import matplotlib.pyplot as plt\n",
        "import numpy as np\n",
        "import ipywidgets as widgets\n",
        "import time\n",
        "import threading\n",
        "from IPython.display import display, clear_output"
      ],
      "metadata": {
        "id": "_w6668zwE50H"
      },
      "execution_count": 109,
      "outputs": []
    },
    {
      "cell_type": "code",
      "source": [
        "# Timer and game variables\n",
        "start_time = time.time()\n",
        "elapsed_time = 0\n",
        "timer_running = True\n",
        "selected_cell = None\n",
        "hint_count = 3  #  Limit hints to 3"
      ],
      "metadata": {
        "id": "iPzGjyHxE53D"
      },
      "execution_count": 110,
      "outputs": []
    },
    {
      "cell_type": "code",
      "source": [
        "# Function to generate a Sudoku puzzle\n",
        "def generate_sudoku(difficulty=\"Medium\"):\n",
        "    full_board = np.array([\n",
        "        [5, 3, 4, 6, 7, 8, 9, 1, 2], [6, 7, 2, 1, 9, 5, 3, 4, 8], [1, 9, 8, 3, 4, 2, 5, 6, 7],\n",
        "        [8, 5, 9, 7, 6, 1, 4, 2, 3], [4, 2, 6, 8, 5, 3, 7, 9, 1], [7, 1, 3, 9, 2, 4, 8, 5, 6],\n",
        "        [9, 6, 1, 5, 3, 7, 2, 8, 4], [2, 8, 7, 4, 1, 9, 6, 3, 5], [3, 4, 5, 2, 8, 6, 1, 7, 9]\n",
        "    ])\n",
        "    difficulty_levels = {\"Easy\": 40, \"Medium\": 30, \"Hard\": 20}\n",
        "    num_clues = difficulty_levels.get(difficulty, 30)\n",
        "\n",
        "    puzzle = full_board.copy()\n",
        "    mask = np.random.choice([True, False], puzzle.shape, p=[num_clues / 81, 1 - num_clues / 81])\n",
        "    puzzle[~mask] = 0\n",
        "    return puzzle, full_board"
      ],
      "metadata": {
        "id": "inV1ChtjE56O"
      },
      "execution_count": 111,
      "outputs": []
    },
    {
      "cell_type": "code",
      "source": [
        "# Initialize Sudoku\n",
        "difficulty = \"Medium\"\n",
        "sudoku_puzzle, solution = generate_sudoku(difficulty)\n",
        "original_puzzle = sudoku_puzzle.copy()\n",
        "user_puzzle = sudoku_puzzle.copy()"
      ],
      "metadata": {
        "id": "KtvEPEKOE59G"
      },
      "execution_count": 112,
      "outputs": []
    },
    {
      "cell_type": "code",
      "source": [
        "# Function to draw Sudoku board\n",
        "def draw_sudoku(board, message=\"\"):\n",
        "    global selected_cell\n",
        "    output.clear_output(wait=True)\n",
        "    with output:\n",
        "        fig, ax = plt.subplots(figsize=(6, 6))\n",
        "\n",
        "        for i in range(10):\n",
        "            lw = 2 if i % 3 == 0 else 0.5\n",
        "            ax.plot([0, 9], [i, i], 'k', linewidth=lw)\n",
        "            ax.plot([i, i], [0, 9], 'k', linewidth=lw)\n",
        "\n",
        "        for row in range(9):\n",
        "            for col in range(9):\n",
        "                num = board[row, col]\n",
        "                if num != 0:\n",
        "                    color = 'black' if original_puzzle[row, col] != 0 else 'blue'\n",
        "                    ax.text(col + 0.5, 8.5 - row, str(num), fontsize=16, ha='center', va='center', color=color)\n",
        "\n",
        "                # Display row,col number in small font at the top-left of each cell\n",
        "                ax.text(col + 0.1, 8.9 - row, f\"{row},{col}\", fontsize=8, ha='left', va='top', color='gray')\n",
        "\n",
        "                if selected_cell == (row, col):\n",
        "                    ax.add_patch(plt.Rectangle((col, 8 - row), 1, 1, color='yellow', alpha=0.3))\n",
        "\n",
        "        ax.set_xticks([])\n",
        "        ax.set_yticks([])\n",
        "        ax.set_xlim(0, 9)\n",
        "        ax.set_ylim(0, 9)\n",
        "        ax.set_frame_on(False)\n",
        "\n",
        "        plt.show()\n",
        "\n",
        "        print(f\"Time elapsed: {elapsed_time:.1f} seconds\")\n",
        "        print(f\"Hints remaining: {hint_count}\")\n",
        "        if message:\n",
        "            print(message)"
      ],
      "metadata": {
        "id": "NylQiZt9E5_8"
      },
      "execution_count": 113,
      "outputs": []
    },
    {
      "cell_type": "code",
      "source": [
        "# Timer function\n",
        "def update_timer():\n",
        "    global elapsed_time, timer_running\n",
        "    while timer_running:\n",
        "        elapsed_time = time.time() - start_time\n",
        "        time.sleep(1)"
      ],
      "metadata": {
        "id": "-kUXTXxnE6DA"
      },
      "execution_count": 114,
      "outputs": []
    },
    {
      "cell_type": "code",
      "source": [
        "# Start timer thread\n",
        "timer_thread = threading.Thread(target=update_timer)\n",
        "timer_thread.start()"
      ],
      "metadata": {
        "id": "tw-0rPu9E6F8"
      },
      "execution_count": 115,
      "outputs": []
    },
    {
      "cell_type": "code",
      "source": [
        "# Function to select a cell\n",
        "def select_cell(b):\n",
        "    global selected_cell\n",
        "    try:\n",
        "        row, col = map(int, cell_input.value.split(','))\n",
        "        if 0 <= row < 9 and 0 <= col < 9:\n",
        "            selected_cell = (row, col)\n",
        "            draw_sudoku(user_puzzle, f\"Selected Cell: ({row}, {col})\")\n",
        "        else:\n",
        "            raise ValueError\n",
        "    except ValueError:\n",
        "        draw_sudoku(user_puzzle, \"Enter row,col between 0-8 (e.g., 3,4)\")\n"
      ],
      "metadata": {
        "id": "nQTt44zUE6I6"
      },
      "execution_count": 116,
      "outputs": []
    },
    {
      "cell_type": "code",
      "source": [
        "# Function to update board with user input\n",
        "def update_sudoku(b):\n",
        "    global selected_cell, timer_running\n",
        "    if selected_cell:\n",
        "        row, col = selected_cell\n",
        "        num = num_select.value\n",
        "\n",
        "        if original_puzzle[row, col] == 0:\n",
        "            if is_valid(user_puzzle, row, col, num):\n",
        "                user_puzzle[row, col] = num\n",
        "                if is_puzzle_solved(user_puzzle):\n",
        "                    timer_running = False\n",
        "                    draw_sudoku(user_puzzle, f\"Puzzle solved in {elapsed_time:.1f} seconds! 🏆\")\n",
        "                else:\n",
        "                    draw_sudoku(user_puzzle, \"Valid move!\")\n",
        "            else:\n",
        "                draw_sudoku(user_puzzle, \"Invalid move!\")\n",
        "        else:\n",
        "            draw_sudoku(user_puzzle, \"Cannot change pre-filled numbers!\")\n",
        "    else:\n",
        "        draw_sudoku(user_puzzle, \"Select a cell first!\")"
      ],
      "metadata": {
        "id": "voflwsULE6L_"
      },
      "execution_count": 117,
      "outputs": []
    },
    {
      "cell_type": "code",
      "source": [
        "# Function to provide a hint (limited to 3 hints)\n",
        "def hint(b):\n",
        "    global hint_count\n",
        "    if hint_count > 0:\n",
        "        empty_cells = list(zip(*np.where(user_puzzle == 0)))\n",
        "        if empty_cells:\n",
        "            row, col = empty_cells[0]  # Select first empty cell\n",
        "            user_puzzle[row, col] = solution[row, col]  # Fill with correct value\n",
        "            hint_count -= 1  # Reduce hint count\n",
        "            draw_sudoku(user_puzzle, f\"Hint used! ({row},{col}) → {solution[row, col]}\")\n",
        "        else:\n",
        "            draw_sudoku(user_puzzle, \"No empty cells left!\")\n",
        "    else:\n",
        "        draw_sudoku(user_puzzle, \"No hints left!\")"
      ],
      "metadata": {
        "id": "UJVC3JI-E6PT"
      },
      "execution_count": 118,
      "outputs": []
    },
    {
      "cell_type": "code",
      "source": [
        "# Function to reset the game\n",
        "def reset_game(b):\n",
        "    global user_puzzle, original_puzzle, sudoku_puzzle, solution, start_time, elapsed_time, timer_running, hint_count\n",
        "    sudoku_puzzle, solution = generate_sudoku(difficulty_select.value)\n",
        "    original_puzzle = sudoku_puzzle.copy()\n",
        "    user_puzzle = sudoku_puzzle.copy()\n",
        "    hint_count = 3  # Reset hint count\n",
        "\n",
        "    start_time = time.time()\n",
        "    elapsed_time = 0\n",
        "    timer_running = True\n",
        "\n",
        "    draw_sudoku(user_puzzle, f\"Restarted with {difficulty_select.value} difficulty!\")\n"
      ],
      "metadata": {
        "id": "kMPBFUFzE6SJ"
      },
      "execution_count": 119,
      "outputs": []
    },
    {
      "cell_type": "code",
      "source": [
        "# Function to check if move is valid\n",
        "def is_valid(board, row, col, num):\n",
        "    if num in board[row, :] or num in board[:, col]:\n",
        "        return False\n",
        "    start_row, start_col = (row // 3) * 3, (col // 3) * 3\n",
        "    if num in board[start_row:start_row+3, start_col:start_col+3]:\n",
        "        return False\n",
        "    return True"
      ],
      "metadata": {
        "id": "_rwZOAL5E6VF"
      },
      "execution_count": 121,
      "outputs": []
    },
    {
      "cell_type": "code",
      "source": [
        "# Function to check if the puzzle is solved\n",
        "def is_puzzle_solved(board):\n",
        "    return np.all(board != 0)\n"
      ],
      "metadata": {
        "id": "fZxQmM2uE6YV"
      },
      "execution_count": 122,
      "outputs": []
    },
    {
      "cell_type": "code",
      "source": [
        "# UI Elements\n",
        "difficulty_select = widgets.Dropdown(options=[\"Easy\", \"Medium\", \"Hard\"], value=\"Medium\", description=\"Difficulty:\")\n",
        "cell_input = widgets.Text(placeholder=\"Enter row,col (e.g., 3,4)\", description=\"Cell:\")\n",
        "num_select = widgets.Dropdown(options=list(range(1, 10)), description=\"Number:\")\n",
        "select_button = widgets.Button(description=\"Select Cell\")\n",
        "submit_button = widgets.Button(description=\"Submit\")\n",
        "hint_button = widgets.Button(description=\"Hint\")\n",
        "reset_button = widgets.Button(description=\"Restart\")\n",
        "\n",
        "output = widgets.Output()\n"
      ],
      "metadata": {
        "id": "tDbMvBSwE6bS"
      },
      "execution_count": 127,
      "outputs": []
    },
    {
      "cell_type": "code",
      "source": [
        "# Connecting buttons to functions\n",
        "select_button.on_click(select_cell)\n",
        "submit_button.on_click(update_sudoku)\n",
        "hint_button.on_click(hint)\n",
        "reset_button.on_click(reset_game)"
      ],
      "metadata": {
        "id": "3Eq78d9QFrrw"
      },
      "execution_count": 134,
      "outputs": []
    },
    {
      "cell_type": "code",
      "source": [
        "\n",
        "# Display UI\n",
        "display(difficulty_select, cell_input, select_button, num_select, submit_button, hint_button, reset_button, output)\n",
        "\n",
        "# Draw initial board\n",
        "draw_sudoku(user_puzzle)\n"
      ],
      "metadata": {
        "colab": {
          "base_uri": "https://localhost:8080/",
          "height": 758,
          "referenced_widgets": [
            "459e39fc97aa4452ab32554e5850683c",
            "cdf9f8f43bd54fd68a940761ccdc566f",
            "18a19fff95064b42a1916b00aa19a1f4",
            "0e54645fff21468bae6aa9a9b89d9bf3",
            "b0f6ab33fbbf4ffdb13a303023c55dae",
            "253a5ad8ce7b4164b4b9b4b21b6c0a3c",
            "655cb584feb34dba9b2f3784adefc80a",
            "c5a0babec17a40cdaead26fc2aa1e322",
            "48c5f4e7379f424786a0d5343383dad2",
            "2a7d6a167bc4413d937e25d813e3c7e9",
            "d610129f327e4ad19df6f9364dfd6a7d",
            "a02a97d281de4093ac0f3ea3ad0791a0",
            "c0afa827e1224083b98c1d60e37e991b",
            "e2166f8a19d94ee29dc51b1d859907f6",
            "3cc07dd1c2cb440bb6859d7ef6ad9607",
            "b460cebb7af3421982231651eb19b810",
            "1e3dc0780d264b7490f9e3f895e7e44f",
            "5accb200e3244b0c900fe744a1af9ba0",
            "ca80ba6cc98a4cbb80377e133aa6dd69",
            "3b7339eda573488faf187dc0b8205eb7",
            "dad893ce1d7d47439b067c9de7642232",
            "e734d51a90774c7a9ca7e1b422d461f4",
            "985d4930dba84c728678627bf4ab2c30"
          ]
        },
        "id": "SuoDRt32Frul",
        "outputId": "348e9f84-e22c-43e5-c685-1b860c5a1002"
      },
      "execution_count": 137,
      "outputs": [
        {
          "output_type": "display_data",
          "data": {
            "text/plain": [
              "Dropdown(description='Difficulty:', options=('Easy', 'Medium', 'Hard'), value='Easy')"
            ],
            "application/vnd.jupyter.widget-view+json": {
              "version_major": 2,
              "version_minor": 0,
              "model_id": "459e39fc97aa4452ab32554e5850683c"
            }
          },
          "metadata": {}
        },
        {
          "output_type": "display_data",
          "data": {
            "text/plain": [
              "Text(value='', description='Cell:', placeholder='Enter row,col (e.g., 3,4)')"
            ],
            "application/vnd.jupyter.widget-view+json": {
              "version_major": 2,
              "version_minor": 0,
              "model_id": "0e54645fff21468bae6aa9a9b89d9bf3"
            }
          },
          "metadata": {}
        },
        {
          "output_type": "display_data",
          "data": {
            "text/plain": [
              "Button(description='Select Cell', style=ButtonStyle())"
            ],
            "application/vnd.jupyter.widget-view+json": {
              "version_major": 2,
              "version_minor": 0,
              "model_id": "655cb584feb34dba9b2f3784adefc80a"
            }
          },
          "metadata": {}
        },
        {
          "output_type": "display_data",
          "data": {
            "text/plain": [
              "Dropdown(description='Number:', options=(1, 2, 3, 4, 5, 6, 7, 8, 9), value=1)"
            ],
            "application/vnd.jupyter.widget-view+json": {
              "version_major": 2,
              "version_minor": 0,
              "model_id": "2a7d6a167bc4413d937e25d813e3c7e9"
            }
          },
          "metadata": {}
        },
        {
          "output_type": "display_data",
          "data": {
            "text/plain": [
              "Button(description='Submit', style=ButtonStyle())"
            ],
            "application/vnd.jupyter.widget-view+json": {
              "version_major": 2,
              "version_minor": 0,
              "model_id": "c0afa827e1224083b98c1d60e37e991b"
            }
          },
          "metadata": {}
        },
        {
          "output_type": "display_data",
          "data": {
            "text/plain": [
              "Button(description='Hint', style=ButtonStyle())"
            ],
            "application/vnd.jupyter.widget-view+json": {
              "version_major": 2,
              "version_minor": 0,
              "model_id": "b460cebb7af3421982231651eb19b810"
            }
          },
          "metadata": {}
        },
        {
          "output_type": "display_data",
          "data": {
            "text/plain": [
              "Button(description='Restart', style=ButtonStyle())"
            ],
            "application/vnd.jupyter.widget-view+json": {
              "version_major": 2,
              "version_minor": 0,
              "model_id": "ca80ba6cc98a4cbb80377e133aa6dd69"
            }
          },
          "metadata": {}
        },
        {
          "output_type": "display_data",
          "data": {
            "text/plain": [
              "Output()"
            ],
            "application/vnd.jupyter.widget-view+json": {
              "version_major": 2,
              "version_minor": 0,
              "model_id": "e734d51a90774c7a9ca7e1b422d461f4"
            }
          },
          "metadata": {}
        }
      ]
    },
    {
      "cell_type": "code",
      "source": [],
      "metadata": {
        "id": "Jbe7qvN1Fr4e"
      },
      "execution_count": null,
      "outputs": []
    },
    {
      "cell_type": "code",
      "source": [],
      "metadata": {
        "id": "3trChy3iE6ec"
      },
      "execution_count": null,
      "outputs": []
    }
  ]
}